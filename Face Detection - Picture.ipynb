{
 "cells": [
  {
   "cell_type": "code",
   "execution_count": 1,
   "metadata": {},
   "outputs": [
    {
     "name": "stdout",
     "output_type": "stream",
     "text": [
      "4.1.0\n"
     ]
    }
   ],
   "source": [
    "import cv2\n",
    "print(cv2.__version__)"
   ]
  },
  {
   "cell_type": "code",
   "execution_count": 3,
   "metadata": {},
   "outputs": [
    {
     "name": "stdout",
     "output_type": "stream",
     "text": [
      "[2569 1375   87   87]\n",
      "[3045 2661   58   58]\n",
      "[1990 4041   65   65]\n",
      "[2146 1224  423  423]\n",
      "[2159 3936   90   90]\n",
      "[2089 2629   64   64]\n",
      "[1799 4726   61   61]\n",
      "[ 801 1170  442  442]\n",
      "[1531 1161  405  405]\n",
      "[2422 4744   93   93]\n",
      "[ 842 1464  367  367]\n",
      "[3080 2892  132  132]\n",
      "[1585 4060  363  363]\n",
      "[3048 2916   55   55]\n",
      "[1096 4436   54   54]\n",
      "[1240 4116  170  170]\n",
      "[1859 4290  496  496]\n",
      "[3040 3134   70   70]\n",
      "[2887 1936  162  162]\n",
      "[ 757 1968   62   62]\n",
      "[ 854 3709  156  156]\n",
      "[ 852 3773   80   80]\n",
      "[2044 2429   70   70]\n",
      "[1921 2078   58   58]\n",
      "[ 928 2492   70   70]\n",
      "[ 896 3581  102  102]\n",
      "[ 972 2246   77   77]\n",
      "[1964 4122  440  440]\n"
     ]
    }
   ],
   "source": [
    "from cv2 import imread\n",
    "from cv2 import CascadeClassifier\n",
    "pixels = imread('IMG_7374.JPG')\n",
    "classifier = CascadeClassifier('haarcascade_frontalface_default.xml')\n",
    "bboxes = classifier.detectMultiScale(pixels)\n",
    "for box in bboxes:\n",
    "    print(box)"
   ]
  },
  {
   "cell_type": "code",
   "execution_count": null,
   "metadata": {},
   "outputs": [],
   "source": [
    "from cv2 import imread\n",
    "from cv2 import imshow\n",
    "from cv2 import waitKey\n",
    "from cv2 import destroyAllWindows\n",
    "from cv2 import CascadeClassifier\n",
    "from cv2 import rectangle\n",
    "pixels = imread('IMG_7374.JPG')\n",
    "classifier = CascadeClassifier('haarcascade_frontalface_default.xml')\n",
    "bboxes = classifier.detectMultiScale(pixels)\n",
    "for box in bboxes:\n",
    "    x, y, width, height = box\n",
    "    x2, y2 = x + width, y + height\n",
    "    rectangle(pixels, (x, y), (x2, y2), (0,0,255), 1)\n",
    "imshow('face detection', pixels)\n",
    "waitKey(0)\n",
    "destroyAllWindows()"
   ]
  },
  {
   "cell_type": "code",
   "execution_count": null,
   "metadata": {},
   "outputs": [],
   "source": []
  }
 ],
 "metadata": {
  "kernelspec": {
   "display_name": "Python 3",
   "language": "python",
   "name": "python3"
  },
  "language_info": {
   "codemirror_mode": {
    "name": "ipython",
    "version": 3
   },
   "file_extension": ".py",
   "mimetype": "text/x-python",
   "name": "python",
   "nbconvert_exporter": "python",
   "pygments_lexer": "ipython3",
   "version": "3.7.3"
  }
 },
 "nbformat": 4,
 "nbformat_minor": 2
}
